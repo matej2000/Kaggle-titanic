{
 "metadata": {
  "language_info": {
   "codemirror_mode": {
    "name": "ipython",
    "version": 3
   },
   "file_extension": ".py",
   "mimetype": "text/x-python",
   "name": "python",
   "nbconvert_exporter": "python",
   "pygments_lexer": "ipython3",
   "version": "3.8.10"
  },
  "orig_nbformat": 4,
  "kernelspec": {
   "name": "python3",
   "display_name": "Python 3.8.10 64-bit"
  },
  "interpreter": {
   "hash": "31f2aee4e71d21fbe5cf8b01ff0e069b9275f58929596ceb00d14d90e3e16cd6"
  }
 },
 "nbformat": 4,
 "nbformat_minor": 2,
 "cells": [
  {
   "source": [
    "# Titanic"
   ],
   "cell_type": "markdown",
   "metadata": {}
  },
  {
   "cell_type": "code",
   "execution_count": 1,
   "metadata": {},
   "outputs": [],
   "source": [
    "import pandas as pd\n",
    "import numpy as np\n",
    "import matplotlib.pyplot as plt\n",
    "from sklearn.ensemble import RandomForestClassifier \n",
    "from sklearn.datasets import make_classification\n",
    "from sklearn.preprocessing import OneHotEncoder\n",
    "from sklearn.naive_bayes import GaussianNB"
   ]
  },
  {
   "cell_type": "code",
   "execution_count": 2,
   "metadata": {},
   "outputs": [],
   "source": [
    "test = pd.read_csv(\"Data/test.csv\")\n",
    "train = pd.read_csv(\"Data/train.csv\")"
   ]
  },
  {
   "cell_type": "code",
   "execution_count": 3,
   "metadata": {},
   "outputs": [
    {
     "output_type": "execute_result",
     "data": {
      "text/plain": [
       "     PassengerId  Survived  Pclass  \\\n",
       "0              1         0       3   \n",
       "1              2         1       1   \n",
       "2              3         1       3   \n",
       "3              4         1       1   \n",
       "4              5         0       3   \n",
       "..           ...       ...     ...   \n",
       "886          887         0       2   \n",
       "887          888         1       1   \n",
       "888          889         0       3   \n",
       "889          890         1       1   \n",
       "890          891         0       3   \n",
       "\n",
       "                                                  Name     Sex   Age  SibSp  \\\n",
       "0                              Braund, Mr. Owen Harris    male  22.0      1   \n",
       "1    Cumings, Mrs. John Bradley (Florence Briggs Th...  female  38.0      1   \n",
       "2                               Heikkinen, Miss. Laina  female  26.0      0   \n",
       "3         Futrelle, Mrs. Jacques Heath (Lily May Peel)  female  35.0      1   \n",
       "4                             Allen, Mr. William Henry    male  35.0      0   \n",
       "..                                                 ...     ...   ...    ...   \n",
       "886                              Montvila, Rev. Juozas    male  27.0      0   \n",
       "887                       Graham, Miss. Margaret Edith  female  19.0      0   \n",
       "888           Johnston, Miss. Catherine Helen \"Carrie\"  female   NaN      1   \n",
       "889                              Behr, Mr. Karl Howell    male  26.0      0   \n",
       "890                                Dooley, Mr. Patrick    male  32.0      0   \n",
       "\n",
       "     Parch            Ticket     Fare Cabin Embarked  \n",
       "0        0         A/5 21171   7.2500   NaN        S  \n",
       "1        0          PC 17599  71.2833   C85        C  \n",
       "2        0  STON/O2. 3101282   7.9250   NaN        S  \n",
       "3        0            113803  53.1000  C123        S  \n",
       "4        0            373450   8.0500   NaN        S  \n",
       "..     ...               ...      ...   ...      ...  \n",
       "886      0            211536  13.0000   NaN        S  \n",
       "887      0            112053  30.0000   B42        S  \n",
       "888      2        W./C. 6607  23.4500   NaN        S  \n",
       "889      0            111369  30.0000  C148        C  \n",
       "890      0            370376   7.7500   NaN        Q  \n",
       "\n",
       "[891 rows x 12 columns]"
      ],
      "text/html": "<div>\n<style scoped>\n    .dataframe tbody tr th:only-of-type {\n        vertical-align: middle;\n    }\n\n    .dataframe tbody tr th {\n        vertical-align: top;\n    }\n\n    .dataframe thead th {\n        text-align: right;\n    }\n</style>\n<table border=\"1\" class=\"dataframe\">\n  <thead>\n    <tr style=\"text-align: right;\">\n      <th></th>\n      <th>PassengerId</th>\n      <th>Survived</th>\n      <th>Pclass</th>\n      <th>Name</th>\n      <th>Sex</th>\n      <th>Age</th>\n      <th>SibSp</th>\n      <th>Parch</th>\n      <th>Ticket</th>\n      <th>Fare</th>\n      <th>Cabin</th>\n      <th>Embarked</th>\n    </tr>\n  </thead>\n  <tbody>\n    <tr>\n      <th>0</th>\n      <td>1</td>\n      <td>0</td>\n      <td>3</td>\n      <td>Braund, Mr. Owen Harris</td>\n      <td>male</td>\n      <td>22.0</td>\n      <td>1</td>\n      <td>0</td>\n      <td>A/5 21171</td>\n      <td>7.2500</td>\n      <td>NaN</td>\n      <td>S</td>\n    </tr>\n    <tr>\n      <th>1</th>\n      <td>2</td>\n      <td>1</td>\n      <td>1</td>\n      <td>Cumings, Mrs. John Bradley (Florence Briggs Th...</td>\n      <td>female</td>\n      <td>38.0</td>\n      <td>1</td>\n      <td>0</td>\n      <td>PC 17599</td>\n      <td>71.2833</td>\n      <td>C85</td>\n      <td>C</td>\n    </tr>\n    <tr>\n      <th>2</th>\n      <td>3</td>\n      <td>1</td>\n      <td>3</td>\n      <td>Heikkinen, Miss. Laina</td>\n      <td>female</td>\n      <td>26.0</td>\n      <td>0</td>\n      <td>0</td>\n      <td>STON/O2. 3101282</td>\n      <td>7.9250</td>\n      <td>NaN</td>\n      <td>S</td>\n    </tr>\n    <tr>\n      <th>3</th>\n      <td>4</td>\n      <td>1</td>\n      <td>1</td>\n      <td>Futrelle, Mrs. Jacques Heath (Lily May Peel)</td>\n      <td>female</td>\n      <td>35.0</td>\n      <td>1</td>\n      <td>0</td>\n      <td>113803</td>\n      <td>53.1000</td>\n      <td>C123</td>\n      <td>S</td>\n    </tr>\n    <tr>\n      <th>4</th>\n      <td>5</td>\n      <td>0</td>\n      <td>3</td>\n      <td>Allen, Mr. William Henry</td>\n      <td>male</td>\n      <td>35.0</td>\n      <td>0</td>\n      <td>0</td>\n      <td>373450</td>\n      <td>8.0500</td>\n      <td>NaN</td>\n      <td>S</td>\n    </tr>\n    <tr>\n      <th>...</th>\n      <td>...</td>\n      <td>...</td>\n      <td>...</td>\n      <td>...</td>\n      <td>...</td>\n      <td>...</td>\n      <td>...</td>\n      <td>...</td>\n      <td>...</td>\n      <td>...</td>\n      <td>...</td>\n      <td>...</td>\n    </tr>\n    <tr>\n      <th>886</th>\n      <td>887</td>\n      <td>0</td>\n      <td>2</td>\n      <td>Montvila, Rev. Juozas</td>\n      <td>male</td>\n      <td>27.0</td>\n      <td>0</td>\n      <td>0</td>\n      <td>211536</td>\n      <td>13.0000</td>\n      <td>NaN</td>\n      <td>S</td>\n    </tr>\n    <tr>\n      <th>887</th>\n      <td>888</td>\n      <td>1</td>\n      <td>1</td>\n      <td>Graham, Miss. Margaret Edith</td>\n      <td>female</td>\n      <td>19.0</td>\n      <td>0</td>\n      <td>0</td>\n      <td>112053</td>\n      <td>30.0000</td>\n      <td>B42</td>\n      <td>S</td>\n    </tr>\n    <tr>\n      <th>888</th>\n      <td>889</td>\n      <td>0</td>\n      <td>3</td>\n      <td>Johnston, Miss. Catherine Helen \"Carrie\"</td>\n      <td>female</td>\n      <td>NaN</td>\n      <td>1</td>\n      <td>2</td>\n      <td>W./C. 6607</td>\n      <td>23.4500</td>\n      <td>NaN</td>\n      <td>S</td>\n    </tr>\n    <tr>\n      <th>889</th>\n      <td>890</td>\n      <td>1</td>\n      <td>1</td>\n      <td>Behr, Mr. Karl Howell</td>\n      <td>male</td>\n      <td>26.0</td>\n      <td>0</td>\n      <td>0</td>\n      <td>111369</td>\n      <td>30.0000</td>\n      <td>C148</td>\n      <td>C</td>\n    </tr>\n    <tr>\n      <th>890</th>\n      <td>891</td>\n      <td>0</td>\n      <td>3</td>\n      <td>Dooley, Mr. Patrick</td>\n      <td>male</td>\n      <td>32.0</td>\n      <td>0</td>\n      <td>0</td>\n      <td>370376</td>\n      <td>7.7500</td>\n      <td>NaN</td>\n      <td>Q</td>\n    </tr>\n  </tbody>\n</table>\n<p>891 rows × 12 columns</p>\n</div>"
     },
     "metadata": {},
     "execution_count": 3
    }
   ],
   "source": [
    "train"
   ]
  },
  {
   "source": [
    "## Priprava podatkov"
   ],
   "cell_type": "markdown",
   "metadata": {}
  },
  {
   "source": [
    "train = train[np.invert(np.isnan(train[\"Age\"]))]\n",
    "test[\"Age\"] = test[\"Age\"].fillna(np.mean(test[\"Age\"]))\n",
    "test[\"Fare\"] = test[\"Fare\"].fillna(np.mean(test[\"Fare\"]))\n",
    "#test = test[np.invert(np.isnan(test[\"Age\"]))]\n",
    "#test = test[np.invert(np.isnan(test[\"Fare\"]))]"
   ],
   "cell_type": "code",
   "metadata": {},
   "execution_count": 4,
   "outputs": []
  },
  {
   "source": [
    "Nov atribut minor:"
   ],
   "cell_type": "markdown",
   "metadata": {}
  },
  {
   "cell_type": "code",
   "execution_count": 5,
   "metadata": {},
   "outputs": [],
   "source": [
    "def minors(x):\n",
    "    minor = []\n",
    "    for a in x[\"Age\"]:\n",
    "        if a < 16:\n",
    "            minor = np.append(minor, 1)\n",
    "        else:\n",
    "            minor = np.append(minor, 0)\n",
    "    x[\"Minor\"] = minor"
   ]
  },
  {
   "cell_type": "code",
   "execution_count": 6,
   "metadata": {},
   "outputs": [
    {
     "output_type": "stream",
     "name": "stderr",
     "text": [
      "/home/matej/.local/lib/python3.8/site-packages/pandas/core/frame.py:3607: SettingWithCopyWarning: \nA value is trying to be set on a copy of a slice from a DataFrame.\nTry using .loc[row_indexer,col_indexer] = value instead\n\nSee the caveats in the documentation: https://pandas.pydata.org/pandas-docs/stable/user_guide/indexing.html#returning-a-view-versus-a-copy\n  self._set_item(key, value)\n"
     ]
    }
   ],
   "source": [
    "minors(train)\n",
    "minors(test)"
   ]
  },
  {
   "source": [
    "Nova atributa na podlagi priimkov:\n",
    "* Vsaj en prezivel z istim priimkom\n",
    "* Vsi umrli z istim priimkom"
   ],
   "cell_type": "markdown",
   "metadata": {}
  },
  {
   "cell_type": "code",
   "execution_count": 7,
   "metadata": {},
   "outputs": [],
   "source": [
    "def allDied(x, y, ista):\n",
    "    allD = []\n",
    "    lived = []\n",
    "    for index, row in x.iterrows():\n",
    "        surname = row[\"Name\"].split(\",\")[0]\n",
    "        dead = 0\n",
    "        alive = 0\n",
    "        for index2, row2 in y.iterrows():\n",
    "            if ista:\n",
    "                if index != index2:\n",
    "                    surname2 = row2[\"Name\"].split(\",\")[0]\n",
    "                    if surname2 == surname:\n",
    "                        if row2[\"Survived\"] == 1:\n",
    "                            alive += 1\n",
    "                        else:\n",
    "                            dead += 1\n",
    "            else:\n",
    "                surname2 = row2[\"Name\"].split(\",\")[0]\n",
    "                if surname2 == surname:\n",
    "                    if row2[\"Survived\"] == 1:\n",
    "                        alive += 1\n",
    "                    else:\n",
    "                        dead += 1\n",
    "        if dead + alive < 2:\n",
    "            allD = np.append(allD, 0)\n",
    "            lived = np.append(lived, 0)\n",
    "        else:\n",
    "            if alive == 0:\n",
    "                allD = np.append(allD, 1)\n",
    "            else:\n",
    "                allD = np.append(allD, 0)\n",
    "            if alive >= 1:\n",
    "                lived = np.append(lived, 1)\n",
    "            else:\n",
    "                lived = np.append(lived, 0)\n",
    "    x[\"SurnameAllDied\"] = allD\n",
    "    x[\"SurnameOneLived\"] = lived"
   ]
  },
  {
   "cell_type": "code",
   "execution_count": 8,
   "metadata": {
    "tags": []
   },
   "outputs": [],
   "source": [
    "allDied(train, train, True)\n",
    "allDied(test, train, False)"
   ]
  },
  {
   "source": [
    "## Pretvorba cabins"
   ],
   "cell_type": "markdown",
   "metadata": {}
  },
  {
   "cell_type": "code",
   "execution_count": 43,
   "metadata": {},
   "outputs": [],
   "source": [
    "palube = []\n",
    "for a in train[\"Cabin\"]:\n",
    "    if not pd.isna(a):\n",
    "        if a[0] not in palube:\n",
    "            palube = np.append(palube, a[0])"
   ]
  },
  {
   "cell_type": "code",
   "execution_count": 55,
   "metadata": {},
   "outputs": [
    {
     "output_type": "stream",
     "name": "stderr",
     "text": [
      "/home/matej/.local/lib/python3.8/site-packages/pandas/core/frame.py:3607: SettingWithCopyWarning: \nA value is trying to be set on a copy of a slice from a DataFrame.\nTry using .loc[row_indexer,col_indexer] = value instead\n\nSee the caveats in the documentation: https://pandas.pydata.org/pandas-docs/stable/user_guide/indexing.html#returning-a-view-versus-a-copy\n  self._set_item(key, value)\n"
     ]
    }
   ],
   "source": [
    "palube = []\n",
    "for a in train[\"Cabin\"]:\n",
    "    if not pd.isna(a):\n",
    "        palube = np.append(palube, a[0])\n",
    "    else:\n",
    "        palube = np.append(palube, a)\n",
    "train[\"Deck\"] = palube"
   ]
  },
  {
   "cell_type": "code",
   "execution_count": 56,
   "metadata": {},
   "outputs": [],
   "source": [
    "palube = []\n",
    "for a in test[\"Cabin\"]:\n",
    "    if not pd.isna(a):\n",
    "        palube = np.append(palube, a[0])\n",
    "    else:\n",
    "        palube = np.append(palube, a)\n",
    "test[\"Deck\"] = palube"
   ]
  },
  {
   "cell_type": "code",
   "execution_count": 47,
   "metadata": {},
   "outputs": [
    {
     "output_type": "execute_result",
     "data": {
      "text/plain": [
       "array(['A', 'B', 'C', 'D', 'E', 'F', 'G', 'T'], dtype='<U32')"
      ]
     },
     "metadata": {},
     "execution_count": 47
    }
   ],
   "source": [
    "np.sort(palube)"
   ]
  },
  {
   "source": [
    "Tabele za napovedovanje:"
   ],
   "cell_type": "markdown",
   "metadata": {}
  },
  {
   "cell_type": "code",
   "execution_count": 92,
   "metadata": {},
   "outputs": [],
   "source": [
    "def one_hot(name, x, y):\n",
    "    category = np.array([])\n",
    "    for a in y[name]:\n",
    "        if not pd.isna(a):\n",
    "            if a not in category:\n",
    "                category = np.append(category, a)\n",
    "    category = np.sort(category)\n",
    "    for c in category:\n",
    "        if not pd.isna(c):\n",
    "            current = []\n",
    "            for a in y[name]:\n",
    "                if a == c:\n",
    "                    current = np.append(current, 1)\n",
    "                else:\n",
    "                    current = np.append(current, 0)\n",
    "            x[c] = current"
   ]
  },
  {
   "cell_type": "code",
   "execution_count": 76,
   "metadata": {},
   "outputs": [
    {
     "output_type": "stream",
     "name": "stderr",
     "text": [
      "/home/matej/.local/lib/python3.8/site-packages/pandas/core/frame.py:3607: SettingWithCopyWarning: \nA value is trying to be set on a copy of a slice from a DataFrame.\nTry using .loc[row_indexer,col_indexer] = value instead\n\nSee the caveats in the documentation: https://pandas.pydata.org/pandas-docs/stable/user_guide/indexing.html#returning-a-view-versus-a-copy\n  self._set_item(key, value)\n/tmp/ipykernel_4589/3114588019.py:5: FutureWarning: elementwise comparison failed; returning scalar instead, but in the future will perform elementwise comparison\n  if a not in category:\n"
     ]
    }
   ],
   "source": [
    "y = train[\"Survived\"]\n",
    "x = train[[\"Pclass\", \"Age\", \"Fare\", \"Minor\", \"SurnameAllDied\", \"SurnameOneLived\", \"SibSp\", \"Parch\"]]\n",
    "x[\"FamilySize\"] = train[\"Parch\"] + train[\"SibSp\"]\n",
    "one_hot(\"Sex\", x, train)\n",
    "one_hot(\"Deck\", x, train)\n",
    "#one_hot(\"Embarked\", x, train)\n",
    "x = x.loc[:, x.columns != 'nan']\n",
    "#enc = OneHotEncoder()\n",
    "#enc.fit(train)"
   ]
  },
  {
   "cell_type": "code",
   "execution_count": 90,
   "metadata": {},
   "outputs": [
    {
     "output_type": "stream",
     "name": "stdout",
     "text": [
      "male\n",
      "female\n",
      "nan\n",
      "B\n",
      "E\n",
      "A\n",
      "C\n",
      "D\n",
      "F\n",
      "G\n",
      "/home/matej/.local/lib/python3.8/site-packages/pandas/core/frame.py:3607: SettingWithCopyWarning: \n",
      "A value is trying to be set on a copy of a slice from a DataFrame.\n",
      "Try using .loc[row_indexer,col_indexer] = value instead\n",
      "\n",
      "See the caveats in the documentation: https://pandas.pydata.org/pandas-docs/stable/user_guide/indexing.html#returning-a-view-versus-a-copy\n",
      "  self._set_item(key, value)\n",
      "/tmp/ipykernel_4589/1133658929.py:5: FutureWarning: elementwise comparison failed; returning scalar instead, but in the future will perform elementwise comparison\n",
      "  if a not in category:\n"
     ]
    }
   ],
   "source": [
    "xtest = test[[\"Pclass\", \"Age\", \"Fare\", \"Minor\", \"SurnameAllDied\", \"SurnameOneLived\", \"SibSp\", \"Parch\"]]\n",
    "xtest[\"FamilySize\"] = test[\"Parch\"] + test[\"SibSp\"]\n",
    "one_hot(\"Sex\", xtest, test)\n",
    "one_hot(\"Deck\", xtest, test)\n",
    "xtest = xtest.loc[:, xtest.columns != 'nan']\n",
    "#one_hot(\"Embarked\", xtest, test)"
   ]
  },
  {
   "source": [
    "## Ocenjevanje atributov"
   ],
   "cell_type": "markdown",
   "metadata": {}
  },
  {
   "source": [
    "## Napovedovanje"
   ],
   "cell_type": "markdown",
   "metadata": {}
  },
  {
   "source": [
    "### Random forest"
   ],
   "cell_type": "markdown",
   "metadata": {}
  },
  {
   "cell_type": "code",
   "execution_count": 162,
   "metadata": {},
   "outputs": [],
   "source": [
    "x3 = x[[\"Minor\", \"SurnameAllDied\", \"female\"]]\n",
    "x3test = xtest[[\"Minor\", \"SurnameAllDied\", \"female\"]]\n",
    "clf = RandomForestClassifier()\n",
    "clf.fit(x3,y)\n",
    "r = clf.predict(x3test)"
   ]
  },
  {
   "cell_type": "code",
   "execution_count": 163,
   "metadata": {},
   "outputs": [
    {
     "output_type": "stream",
     "name": "stderr",
     "text": [
      "/home/matej/.local/lib/python3.8/site-packages/pandas/core/frame.py:3607: SettingWithCopyWarning: \nA value is trying to be set on a copy of a slice from a DataFrame.\nTry using .loc[row_indexer,col_indexer] = value instead\n\nSee the caveats in the documentation: https://pandas.pydata.org/pandas-docs/stable/user_guide/indexing.html#returning-a-view-versus-a-copy\n  self._set_item(key, value)\n"
     ]
    }
   ],
   "source": [
    "resoult = test[[\"PassengerId\"]]\n",
    "resoult[\"Survived\"] = r\n",
    "#resoult.to_csv(\"Predictions/rfc3.csv\",  index=False)"
   ]
  },
  {
   "source": [
    "### Naive Bayes"
   ],
   "cell_type": "markdown",
   "metadata": {}
  },
  {
   "cell_type": "code",
   "execution_count": 77,
   "metadata": {},
   "outputs": [],
   "source": [
    "gnb = GaussianNB()\n",
    "gnb.fit(x,y)\n",
    "tt = gnb.predict(xtest)"
   ]
  },
  {
   "cell_type": "code",
   "execution_count": 78,
   "metadata": {},
   "outputs": [
    {
     "output_type": "stream",
     "name": "stderr",
     "text": [
      "/home/matej/.local/lib/python3.8/site-packages/pandas/core/frame.py:3607: SettingWithCopyWarning: \nA value is trying to be set on a copy of a slice from a DataFrame.\nTry using .loc[row_indexer,col_indexer] = value instead\n\nSee the caveats in the documentation: https://pandas.pydata.org/pandas-docs/stable/user_guide/indexing.html#returning-a-view-versus-a-copy\n  self._set_item(key, value)\n"
     ]
    },
    {
     "output_type": "execute_result",
     "data": {
      "text/plain": [
       "     PassengerId  Survived\n",
       "0           True      True\n",
       "1           True     False\n",
       "2           True      True\n",
       "3           True     False\n",
       "4           True     False\n",
       "..           ...       ...\n",
       "413         True      True\n",
       "414         True      True\n",
       "415         True      True\n",
       "416         True      True\n",
       "417         True      True\n",
       "\n",
       "[418 rows x 2 columns]"
      ],
      "text/html": "<div>\n<style scoped>\n    .dataframe tbody tr th:only-of-type {\n        vertical-align: middle;\n    }\n\n    .dataframe tbody tr th {\n        vertical-align: top;\n    }\n\n    .dataframe thead th {\n        text-align: right;\n    }\n</style>\n<table border=\"1\" class=\"dataframe\">\n  <thead>\n    <tr style=\"text-align: right;\">\n      <th></th>\n      <th>PassengerId</th>\n      <th>Survived</th>\n    </tr>\n  </thead>\n  <tbody>\n    <tr>\n      <th>0</th>\n      <td>True</td>\n      <td>True</td>\n    </tr>\n    <tr>\n      <th>1</th>\n      <td>True</td>\n      <td>False</td>\n    </tr>\n    <tr>\n      <th>2</th>\n      <td>True</td>\n      <td>True</td>\n    </tr>\n    <tr>\n      <th>3</th>\n      <td>True</td>\n      <td>False</td>\n    </tr>\n    <tr>\n      <th>4</th>\n      <td>True</td>\n      <td>False</td>\n    </tr>\n    <tr>\n      <th>...</th>\n      <td>...</td>\n      <td>...</td>\n    </tr>\n    <tr>\n      <th>413</th>\n      <td>True</td>\n      <td>True</td>\n    </tr>\n    <tr>\n      <th>414</th>\n      <td>True</td>\n      <td>True</td>\n    </tr>\n    <tr>\n      <th>415</th>\n      <td>True</td>\n      <td>True</td>\n    </tr>\n    <tr>\n      <th>416</th>\n      <td>True</td>\n      <td>True</td>\n    </tr>\n    <tr>\n      <th>417</th>\n      <td>True</td>\n      <td>True</td>\n    </tr>\n  </tbody>\n</table>\n<p>418 rows × 2 columns</p>\n</div>"
     },
     "metadata": {},
     "execution_count": 78
    }
   ],
   "source": [
    "resoult2 = test[[\"PassengerId\"]]\n",
    "resoult2[\"Survived\"] = tt\n",
    "resoult2 == resoult\n",
    "#resoult2.to_csv(\"Predictions/nbc2.csv\",  index=False)"
   ]
  },
  {
   "source": [
    "## Napovedovanje + testiranje"
   ],
   "cell_type": "markdown",
   "metadata": {}
  },
  {
   "source": [
    "### Random forest"
   ],
   "cell_type": "markdown",
   "metadata": {}
  },
  {
   "cell_type": "code",
   "execution_count": 14,
   "metadata": {},
   "outputs": [],
   "source": [
    "from sklearn.model_selection import train_test_split\n",
    "from sklearn.metrics import accuracy_score\n",
    "from itertools import combinations"
   ]
  },
  {
   "cell_type": "code",
   "execution_count": 22,
   "metadata": {
    "tags": []
   },
   "outputs": [
    {
     "output_type": "stream",
     "name": "stdout",
     "text": [
      "4\n",
      "('Minor', 'SurnameAllDied', 'female', 'male')\n",
      "0.8365617433414043\n",
      "5\n",
      "('Minor', 'SurnameAllDied', 'SurnameOneLived', 'female', 'male')\n",
      "0.8371670702179177\n",
      "6\n",
      "('Minor', 'SurnameAllDied', 'SurnameOneLived', 'FamilySize', 'female', 'male')\n",
      "0.8329297820823245\n",
      "7\n",
      "('Pclass', 'Age', 'Fare', 'Minor', 'SurnameAllDied', 'female', 'male')\n",
      "0.8153753026634382\n",
      "8\n",
      "('Pclass', 'Age', 'Fare', 'Minor', 'SurnameAllDied', 'SurnameOneLived', 'female', 'male')\n",
      "0.8123486682808717\n",
      "9\n",
      "('Pclass', 'Age', 'Fare', 'Minor', 'SurnameAllDied', 'SurnameOneLived', 'FamilySize', 'female', 'male')\n",
      "0.8020581113801454\n"
     ]
    }
   ],
   "source": [
    "maxS = 0.65\n",
    "maxT = np.array([])\n",
    "for s in range(4,15):\n",
    "    for a in combinations([\"Pclass\", \"Age\", \"Fare\", \"Minor\", \"SurnameAllDied\", \"SurnameOneLived\", \"FamilySize\", \"female\", \"male\", \"A\", \"B\", \"C\", \"D\", \"E\", \"F\"], s):\n",
    "        x1 = x[np.array(a)]\n",
    "        ca = 0\n",
    "        for i in range(7):\n",
    "            x_train, x_test, y_train, y_test = train_test_split(x1, y, test_size=0.33)\n",
    "            clf = RandomForestClassifier()\n",
    "            clf.fit(x_train, y_train)\n",
    "            r = clf.predict(x_test)\n",
    "            ca += accuracy_score(y_test, r)\n",
    "        current = ca / 7\n",
    "        if maxS < current:\n",
    "            maxS = current\n",
    "            maxT = a\n",
    "        #print(current)\n",
    "    print(s)\n",
    "    print(maxT)\n",
    "    print(maxS)\n",
    "    maxS = 0.65\n",
    "    maxT = np.array([])"
   ]
  },
  {
   "cell_type": "code",
   "execution_count": 140,
   "metadata": {},
   "outputs": [
    {
     "output_type": "execute_result",
     "data": {
      "text/plain": [
       "0.8401937046004841"
      ]
     },
     "metadata": {},
     "execution_count": 140
    }
   ],
   "source": [
    "maxS"
   ]
  },
  {
   "source": [
    "### Naive bayes"
   ],
   "cell_type": "markdown",
   "metadata": {}
  },
  {
   "cell_type": "code",
   "execution_count": 93,
   "metadata": {},
   "outputs": [
    {
     "output_type": "stream",
     "name": "stdout",
     "text": [
      "4\n",
      "('Minor', 'SurnameAllDied', 'male', 'E')\n",
      "0.8338983050847457\n",
      "5\n",
      "('Minor', 'SurnameAllDied', 'female', 'male', 'E')\n",
      "0.8364406779661018\n",
      "6\n",
      "('Minor', 'SurnameAllDied', 'FamilySize', 'female', 'male', 'E')\n",
      "0.8300847457627117\n",
      "7\n",
      "('Pclass', 'Age', 'Minor', 'SurnameAllDied', 'female', 'male', 'F')\n",
      "0.8389830508474576\n",
      "8\n",
      "('Pclass', 'Age', 'Minor', 'SurnameAllDied', 'FamilySize', 'female', 'male', 'E')\n",
      "0.8360169491525424\n",
      "9\n",
      "('Age', 'Fare', 'Minor', 'SurnameAllDied', 'SurnameOneLived', 'female', 'male', 'A', 'E')\n",
      "0.827542372881356\n",
      "10\n",
      "('Pclass', 'Age', 'Minor', 'SurnameAllDied', 'SurnameOneLived', 'female', 'male', 'A', 'B', 'E')\n",
      "0.827542372881356\n",
      "11\n",
      "('Age', 'Minor', 'SurnameAllDied', 'SurnameOneLived', 'FamilySize', 'female', 'male', 'A', 'D', 'E', 'F')\n",
      "0.8237288135593219\n",
      "12\n",
      "('Pclass', 'Age', 'Minor', 'SurnameAllDied', 'SurnameOneLived', 'FamilySize', 'female', 'male', 'A', 'D', 'E', 'F')\n",
      "0.8165254237288135\n",
      "13\n",
      "('Pclass', 'Age', 'Fare', 'Minor', 'SurnameAllDied', 'SurnameOneLived', 'FamilySize', 'female', 'male', 'A', 'C', 'E', 'F')\n",
      "0.8110169491525424\n",
      "14\n",
      "('Pclass', 'Age', 'Minor', 'SurnameAllDied', 'SurnameOneLived', 'FamilySize', 'female', 'male', 'A', 'B', 'C', 'D', 'E', 'F')\n",
      "0.8059322033898304\n"
     ]
    }
   ],
   "source": [
    "maxS = 0.65\n",
    "maxT = np.array([])\n",
    "for s in range(4,15):\n",
    "    for a in combinations([\"Pclass\", \"Age\", \"Fare\", \"Minor\", \"SurnameAllDied\", \"SurnameOneLived\", \"FamilySize\", \"female\", \"male\", \"A\", \"B\", \"C\", \"D\", \"E\", \"F\"], s):\n",
    "        x1 = x[np.array(a)]\n",
    "        ca = 0\n",
    "        for i in range(10):\n",
    "            x_train, x_test, y_train, y_test = train_test_split(x1, y, test_size=0.33)\n",
    "            gnb = GaussianNB()\n",
    "            gnb.fit(x_train, y_train)\n",
    "            r = gnb.predict(x_test)\n",
    "            ca += accuracy_score(y_test, r)\n",
    "        current = ca / 10\n",
    "        if maxS < current:\n",
    "            maxS = current\n",
    "            maxT = a\n",
    "        #print(current)\n",
    "    print(s)\n",
    "    print(maxT)\n",
    "    print(maxS)\n",
    "    maxS = 0.65\n",
    "    maxT = np.array([])"
   ]
  },
  {
   "cell_type": "code",
   "execution_count": 26,
   "metadata": {},
   "outputs": [
    {
     "output_type": "execute_result",
     "data": {
      "text/plain": [
       "     PassengerId  Survived  Pclass  \\\n",
       "0              1         0       3   \n",
       "1              2         1       1   \n",
       "2              3         1       3   \n",
       "3              4         1       1   \n",
       "4              5         0       3   \n",
       "..           ...       ...     ...   \n",
       "885          886         0       3   \n",
       "886          887         0       2   \n",
       "887          888         1       1   \n",
       "889          890         1       1   \n",
       "890          891         0       3   \n",
       "\n",
       "                                                  Name     Sex   Age  SibSp  \\\n",
       "0                              Braund, Mr. Owen Harris    male  22.0      1   \n",
       "1    Cumings, Mrs. John Bradley (Florence Briggs Th...  female  38.0      1   \n",
       "2                               Heikkinen, Miss. Laina  female  26.0      0   \n",
       "3         Futrelle, Mrs. Jacques Heath (Lily May Peel)  female  35.0      1   \n",
       "4                             Allen, Mr. William Henry    male  35.0      0   \n",
       "..                                                 ...     ...   ...    ...   \n",
       "885               Rice, Mrs. William (Margaret Norton)  female  39.0      0   \n",
       "886                              Montvila, Rev. Juozas    male  27.0      0   \n",
       "887                       Graham, Miss. Margaret Edith  female  19.0      0   \n",
       "889                              Behr, Mr. Karl Howell    male  26.0      0   \n",
       "890                                Dooley, Mr. Patrick    male  32.0      0   \n",
       "\n",
       "     Parch            Ticket     Fare Cabin Embarked  Minor  SurnameAllDied  \\\n",
       "0        0         A/5 21171   7.2500   NaN        S    0.0             0.0   \n",
       "1        0          PC 17599  71.2833   C85        C    0.0             0.0   \n",
       "2        0  STON/O2. 3101282   7.9250   NaN        S    0.0             0.0   \n",
       "3        0            113803  53.1000  C123        S    0.0             0.0   \n",
       "4        0            373450   8.0500   NaN        S    0.0             0.0   \n",
       "..     ...               ...      ...   ...      ...    ...             ...   \n",
       "885      5            382652  29.1250   NaN        Q    0.0             1.0   \n",
       "886      0            211536  13.0000   NaN        S    0.0             0.0   \n",
       "887      0            112053  30.0000   B42        S    0.0             0.0   \n",
       "889      0            111369  30.0000  C148        C    0.0             0.0   \n",
       "890      0            370376   7.7500   NaN        Q    0.0             0.0   \n",
       "\n",
       "     SurnameOneLived  \n",
       "0                0.0  \n",
       "1                0.0  \n",
       "2                0.0  \n",
       "3                0.0  \n",
       "4                0.0  \n",
       "..               ...  \n",
       "885              0.0  \n",
       "886              0.0  \n",
       "887              1.0  \n",
       "889              0.0  \n",
       "890              0.0  \n",
       "\n",
       "[714 rows x 15 columns]"
      ],
      "text/html": "<div>\n<style scoped>\n    .dataframe tbody tr th:only-of-type {\n        vertical-align: middle;\n    }\n\n    .dataframe tbody tr th {\n        vertical-align: top;\n    }\n\n    .dataframe thead th {\n        text-align: right;\n    }\n</style>\n<table border=\"1\" class=\"dataframe\">\n  <thead>\n    <tr style=\"text-align: right;\">\n      <th></th>\n      <th>PassengerId</th>\n      <th>Survived</th>\n      <th>Pclass</th>\n      <th>Name</th>\n      <th>Sex</th>\n      <th>Age</th>\n      <th>SibSp</th>\n      <th>Parch</th>\n      <th>Ticket</th>\n      <th>Fare</th>\n      <th>Cabin</th>\n      <th>Embarked</th>\n      <th>Minor</th>\n      <th>SurnameAllDied</th>\n      <th>SurnameOneLived</th>\n    </tr>\n  </thead>\n  <tbody>\n    <tr>\n      <th>0</th>\n      <td>1</td>\n      <td>0</td>\n      <td>3</td>\n      <td>Braund, Mr. Owen Harris</td>\n      <td>male</td>\n      <td>22.0</td>\n      <td>1</td>\n      <td>0</td>\n      <td>A/5 21171</td>\n      <td>7.2500</td>\n      <td>NaN</td>\n      <td>S</td>\n      <td>0.0</td>\n      <td>0.0</td>\n      <td>0.0</td>\n    </tr>\n    <tr>\n      <th>1</th>\n      <td>2</td>\n      <td>1</td>\n      <td>1</td>\n      <td>Cumings, Mrs. John Bradley (Florence Briggs Th...</td>\n      <td>female</td>\n      <td>38.0</td>\n      <td>1</td>\n      <td>0</td>\n      <td>PC 17599</td>\n      <td>71.2833</td>\n      <td>C85</td>\n      <td>C</td>\n      <td>0.0</td>\n      <td>0.0</td>\n      <td>0.0</td>\n    </tr>\n    <tr>\n      <th>2</th>\n      <td>3</td>\n      <td>1</td>\n      <td>3</td>\n      <td>Heikkinen, Miss. Laina</td>\n      <td>female</td>\n      <td>26.0</td>\n      <td>0</td>\n      <td>0</td>\n      <td>STON/O2. 3101282</td>\n      <td>7.9250</td>\n      <td>NaN</td>\n      <td>S</td>\n      <td>0.0</td>\n      <td>0.0</td>\n      <td>0.0</td>\n    </tr>\n    <tr>\n      <th>3</th>\n      <td>4</td>\n      <td>1</td>\n      <td>1</td>\n      <td>Futrelle, Mrs. Jacques Heath (Lily May Peel)</td>\n      <td>female</td>\n      <td>35.0</td>\n      <td>1</td>\n      <td>0</td>\n      <td>113803</td>\n      <td>53.1000</td>\n      <td>C123</td>\n      <td>S</td>\n      <td>0.0</td>\n      <td>0.0</td>\n      <td>0.0</td>\n    </tr>\n    <tr>\n      <th>4</th>\n      <td>5</td>\n      <td>0</td>\n      <td>3</td>\n      <td>Allen, Mr. William Henry</td>\n      <td>male</td>\n      <td>35.0</td>\n      <td>0</td>\n      <td>0</td>\n      <td>373450</td>\n      <td>8.0500</td>\n      <td>NaN</td>\n      <td>S</td>\n      <td>0.0</td>\n      <td>0.0</td>\n      <td>0.0</td>\n    </tr>\n    <tr>\n      <th>...</th>\n      <td>...</td>\n      <td>...</td>\n      <td>...</td>\n      <td>...</td>\n      <td>...</td>\n      <td>...</td>\n      <td>...</td>\n      <td>...</td>\n      <td>...</td>\n      <td>...</td>\n      <td>...</td>\n      <td>...</td>\n      <td>...</td>\n      <td>...</td>\n      <td>...</td>\n    </tr>\n    <tr>\n      <th>885</th>\n      <td>886</td>\n      <td>0</td>\n      <td>3</td>\n      <td>Rice, Mrs. William (Margaret Norton)</td>\n      <td>female</td>\n      <td>39.0</td>\n      <td>0</td>\n      <td>5</td>\n      <td>382652</td>\n      <td>29.1250</td>\n      <td>NaN</td>\n      <td>Q</td>\n      <td>0.0</td>\n      <td>1.0</td>\n      <td>0.0</td>\n    </tr>\n    <tr>\n      <th>886</th>\n      <td>887</td>\n      <td>0</td>\n      <td>2</td>\n      <td>Montvila, Rev. Juozas</td>\n      <td>male</td>\n      <td>27.0</td>\n      <td>0</td>\n      <td>0</td>\n      <td>211536</td>\n      <td>13.0000</td>\n      <td>NaN</td>\n      <td>S</td>\n      <td>0.0</td>\n      <td>0.0</td>\n      <td>0.0</td>\n    </tr>\n    <tr>\n      <th>887</th>\n      <td>888</td>\n      <td>1</td>\n      <td>1</td>\n      <td>Graham, Miss. Margaret Edith</td>\n      <td>female</td>\n      <td>19.0</td>\n      <td>0</td>\n      <td>0</td>\n      <td>112053</td>\n      <td>30.0000</td>\n      <td>B42</td>\n      <td>S</td>\n      <td>0.0</td>\n      <td>0.0</td>\n      <td>1.0</td>\n    </tr>\n    <tr>\n      <th>889</th>\n      <td>890</td>\n      <td>1</td>\n      <td>1</td>\n      <td>Behr, Mr. Karl Howell</td>\n      <td>male</td>\n      <td>26.0</td>\n      <td>0</td>\n      <td>0</td>\n      <td>111369</td>\n      <td>30.0000</td>\n      <td>C148</td>\n      <td>C</td>\n      <td>0.0</td>\n      <td>0.0</td>\n      <td>0.0</td>\n    </tr>\n    <tr>\n      <th>890</th>\n      <td>891</td>\n      <td>0</td>\n      <td>3</td>\n      <td>Dooley, Mr. Patrick</td>\n      <td>male</td>\n      <td>32.0</td>\n      <td>0</td>\n      <td>0</td>\n      <td>370376</td>\n      <td>7.7500</td>\n      <td>NaN</td>\n      <td>Q</td>\n      <td>0.0</td>\n      <td>0.0</td>\n      <td>0.0</td>\n    </tr>\n  </tbody>\n</table>\n<p>714 rows × 15 columns</p>\n</div>"
     },
     "metadata": {},
     "execution_count": 26
    }
   ],
   "source": [
    "train"
   ]
  }
 ]
}