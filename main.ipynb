{
 "metadata": {
  "language_info": {
   "codemirror_mode": {
    "name": "ipython",
    "version": 3
   },
   "file_extension": ".py",
   "mimetype": "text/x-python",
   "name": "python",
   "nbconvert_exporter": "python",
   "pygments_lexer": "ipython3",
   "version": "3.8.10"
  },
  "orig_nbformat": 4,
  "kernelspec": {
   "name": "python3",
   "display_name": "Python 3.8.10 64-bit"
  },
  "interpreter": {
   "hash": "31f2aee4e71d21fbe5cf8b01ff0e069b9275f58929596ceb00d14d90e3e16cd6"
  }
 },
 "nbformat": 4,
 "nbformat_minor": 2,
 "cells": [
  {
   "source": [
    "# Titanic"
   ],
   "cell_type": "markdown",
   "metadata": {}
  },
  {
   "cell_type": "code",
   "execution_count": 1,
   "metadata": {},
   "outputs": [],
   "source": [
    "import pandas as pd\n",
    "import numpy as np\n",
    "import matplotlib.pyplot as plt\n",
    "from sklearn.ensemble import RandomForestClassifier \n",
    "from sklearn.datasets import make_classification\n",
    "from sklearn.preprocessing import OneHotEncoder\n",
    "from sklearn.naive_bayes import GaussianNB"
   ]
  },
  {
   "cell_type": "code",
   "execution_count": 2,
   "metadata": {},
   "outputs": [],
   "source": [
    "test = pd.read_csv(\"Data/test.csv\")\n",
    "train = pd.read_csv(\"Data/train.csv\")"
   ]
  },
  {
   "source": [
    "## Priprava podatkov"
   ],
   "cell_type": "markdown",
   "metadata": {}
  },
  {
   "source": [
    "Mankajoče podatke v train odstranim, v test pa nadomestim z povprečno vrednostjo."
   ],
   "cell_type": "markdown",
   "metadata": {}
  },
  {
   "source": [
    "train = train[np.invert(np.isnan(train[\"Age\"]))]\n",
    "test[\"Age\"] = test[\"Age\"].fillna(np.mean(test[\"Age\"]))\n",
    "test[\"Fare\"] = test[\"Fare\"].fillna(np.mean(test[\"Fare\"]))"
   ],
   "cell_type": "code",
   "metadata": {},
   "execution_count": 4,
   "outputs": []
  },
  {
   "source": [
    "Nov atribut minor:"
   ],
   "cell_type": "markdown",
   "metadata": {}
  },
  {
   "cell_type": "code",
   "execution_count": 5,
   "metadata": {},
   "outputs": [],
   "source": [
    "def minors(x):\n",
    "    minor = []\n",
    "    for a in x[\"Age\"]:\n",
    "        if a < 16:\n",
    "            minor = np.append(minor, 1)\n",
    "        else:\n",
    "            minor = np.append(minor, 0)\n",
    "    x[\"Minor\"] = minor"
   ]
  },
  {
   "cell_type": "code",
   "execution_count": 6,
   "metadata": {},
   "outputs": [
    {
     "output_type": "stream",
     "name": "stderr",
     "text": [
      "/home/matej/.local/lib/python3.8/site-packages/pandas/core/frame.py:3607: SettingWithCopyWarning: \nA value is trying to be set on a copy of a slice from a DataFrame.\nTry using .loc[row_indexer,col_indexer] = value instead\n\nSee the caveats in the documentation: https://pandas.pydata.org/pandas-docs/stable/user_guide/indexing.html#returning-a-view-versus-a-copy\n  self._set_item(key, value)\n"
     ]
    }
   ],
   "source": [
    "minors(train)\n",
    "minors(test)"
   ]
  },
  {
   "source": [
    "Nova atributa na podlagi priimkov:\n",
    "* Vsaj en prezivel z istim priimkom\n",
    "* Vsi umrli z istim priimkom"
   ],
   "cell_type": "markdown",
   "metadata": {}
  },
  {
   "cell_type": "code",
   "execution_count": 7,
   "metadata": {},
   "outputs": [],
   "source": [
    "def allDied(x, y, ista):\n",
    "    allD = []\n",
    "    lived = []\n",
    "    allLived = []\n",
    "    oneDead = []\n",
    "    for index, row in x.iterrows():\n",
    "        surname = row[\"Name\"].split(\",\")[0]\n",
    "        dead = 0\n",
    "        alive = 0\n",
    "        for index2, row2 in y.iterrows():\n",
    "            if ista:\n",
    "                if index != index2:\n",
    "                    surname2 = row2[\"Name\"].split(\",\")[0]\n",
    "                    if surname2 == surname:\n",
    "                        if row2[\"Survived\"] == 1:\n",
    "                            alive += 1\n",
    "                        else:\n",
    "                            dead += 1\n",
    "            else:\n",
    "                surname2 = row2[\"Name\"].split(\",\")[0]\n",
    "                if surname2 == surname:\n",
    "                    if row2[\"Survived\"] == 1:\n",
    "                        alive += 1\n",
    "                    else:\n",
    "                        dead += 1\n",
    "        if dead + alive < 2:\n",
    "            allD = np.append(allD, 0)\n",
    "            lived = np.append(lived, 0)\n",
    "            allLived = np.append(allLived, 0)\n",
    "            oneDead = np.append(oneDead, 0)\n",
    "        else:\n",
    "            if alive == 0:\n",
    "                allD = np.append(allD, 1)\n",
    "            else:\n",
    "                allD = np.append(allD, 0)\n",
    "            if alive >= 1:\n",
    "                lived = np.append(lived, 1)\n",
    "            else:\n",
    "                lived = np.append(lived, 0)\n",
    "            if dead == 0:\n",
    "                allLived = np.append(allLived, 1)\n",
    "            else:\n",
    "                allLived = np.append(allLived, 0)\n",
    "            if dead >= 1:\n",
    "                oneDead = np.append(oneDead, 1)\n",
    "            else:\n",
    "                oneDead = np.append(oneDead, 0)\n",
    "    x[\"SurnameAllDied\"] = allD\n",
    "    x[\"SurnameOneLived\"] = lived\n",
    "    x[\"SurnameOneDead\"] = oneDead\n",
    "    x[\"SurnameAllLived\"] = allLived"
   ]
  },
  {
   "cell_type": "code",
   "execution_count": 8,
   "metadata": {
    "tags": []
   },
   "outputs": [],
   "source": [
    "allDied(train, train, True)\n",
    "allDied(test, train, False)"
   ]
  },
  {
   "source": [
    "## Pretvorba cabins"
   ],
   "cell_type": "markdown",
   "metadata": {}
  },
  {
   "cell_type": "code",
   "execution_count": 10,
   "metadata": {},
   "outputs": [],
   "source": [
    "palube = []\n",
    "for a in train[\"Cabin\"]:\n",
    "    if not pd.isna(a):\n",
    "        palube = np.append(palube, a[0])\n",
    "    else:\n",
    "        palube = np.append(palube, a)\n",
    "train[\"Deck\"] = palube"
   ]
  },
  {
   "cell_type": "code",
   "execution_count": 11,
   "metadata": {},
   "outputs": [],
   "source": [
    "palube = []\n",
    "for a in test[\"Cabin\"]:\n",
    "    if not pd.isna(a):\n",
    "        palube = np.append(palube, a[0])\n",
    "    else:\n",
    "        palube = np.append(palube, a)\n",
    "test[\"Deck\"] = palube"
   ]
  },
  {
   "source": [
    "Tabele za napovedovanje:"
   ],
   "cell_type": "markdown",
   "metadata": {}
  },
  {
   "cell_type": "code",
   "execution_count": 12,
   "metadata": {},
   "outputs": [],
   "source": [
    "def one_hot(name, x, y, bol):\n",
    "    category = np.array([])\n",
    "    for a in y[name]:\n",
    "        if not pd.isna(a):\n",
    "            if a not in category:\n",
    "                category = np.append(category, a)\n",
    "    category = np.sort(category)\n",
    "    for c in category:\n",
    "        if not pd.isna(c):\n",
    "            current = []\n",
    "            for a in y[name]:\n",
    "                if a == c:\n",
    "                    current = np.append(current, 1)\n",
    "                else:\n",
    "                    current = np.append(current, 0)\n",
    "            if bol:\n",
    "                f = name + \":\" + str(c)\n",
    "                x[f] = current\n",
    "            else:\n",
    "                x[c] = current"
   ]
  },
  {
   "cell_type": "code",
   "execution_count": 13,
   "metadata": {},
   "outputs": [
    {
     "output_type": "stream",
     "name": "stderr",
     "text": [
      "/tmp/ipykernel_7472/4009306914.py:5: FutureWarning: elementwise comparison failed; returning scalar instead, but in the future will perform elementwise comparison\n  if a not in category:\n"
     ]
    }
   ],
   "source": [
    "y = train[\"Survived\"]\n",
    "x = train[[\"Pclass\", \"Age\", \"Fare\", \"Minor\", \"SurnameAllDied\", \"SurnameOneLived\", \"SurnameAllLived\", \"SurnameOneDead\", \"SibSp\", \"Parch\"]]\n",
    "x[\"FamilySize\"] = train[\"Parch\"] + train[\"SibSp\"]\n",
    "one_hot(\"Sex\", x, train, False)\n",
    "one_hot(\"Deck\", x, train, False)\n",
    "one_hot(\"Embarked\", x, train, True)\n",
    "x = x.loc[:, x.columns != 'nan']\n",
    "#enc = OneHotEncoder()\n",
    "#enc.fit(train)"
   ]
  },
  {
   "cell_type": "code",
   "execution_count": 14,
   "metadata": {},
   "outputs": [
    {
     "output_type": "stream",
     "name": "stderr",
     "text": [
      "/tmp/ipykernel_7472/4009306914.py:5: FutureWarning: elementwise comparison failed; returning scalar instead, but in the future will perform elementwise comparison\n  if a not in category:\n"
     ]
    }
   ],
   "source": [
    "xtest = test[[\"Pclass\", \"Age\", \"Fare\", \"Minor\", \"SurnameAllDied\", \"SurnameOneLived\", \"SibSp\", \"Parch\"]]\n",
    "xtest[\"FamilySize\"] = test[\"Parch\"] + test[\"SibSp\"]\n",
    "one_hot(\"Sex\", xtest, test, False)\n",
    "one_hot(\"Deck\", xtest, test, False)\n",
    "xtest = xtest.loc[:, xtest.columns != 'nan']\n",
    "one_hot(\"Embarked\", xtest, test, True)"
   ]
  },
  {
   "cell_type": "code",
   "execution_count": 15,
   "metadata": {},
   "outputs": [
    {
     "output_type": "execute_result",
     "data": {
      "text/plain": [
       "     Pclass   Age     Fare  Minor  SurnameAllDied  SurnameOneLived  \\\n",
       "0         3  22.0   7.2500    0.0             0.0              0.0   \n",
       "1         1  38.0  71.2833    0.0             0.0              0.0   \n",
       "2         3  26.0   7.9250    0.0             0.0              0.0   \n",
       "3         1  35.0  53.1000    0.0             0.0              0.0   \n",
       "4         3  35.0   8.0500    0.0             0.0              0.0   \n",
       "..      ...   ...      ...    ...             ...              ...   \n",
       "885       3  39.0  29.1250    0.0             1.0              0.0   \n",
       "886       2  27.0  13.0000    0.0             0.0              0.0   \n",
       "887       1  19.0  30.0000    0.0             0.0              1.0   \n",
       "889       1  26.0  30.0000    0.0             0.0              0.0   \n",
       "890       3  32.0   7.7500    0.0             0.0              0.0   \n",
       "\n",
       "     SurnameAllLived  SurnameOneDead  SibSp  Parch  ...    B    C    D    E  \\\n",
       "0                0.0             0.0      1      0  ...  0.0  0.0  0.0  0.0   \n",
       "1                0.0             0.0      1      0  ...  0.0  1.0  0.0  0.0   \n",
       "2                0.0             0.0      0      0  ...  0.0  0.0  0.0  0.0   \n",
       "3                0.0             0.0      1      0  ...  0.0  1.0  0.0  0.0   \n",
       "4                0.0             0.0      0      0  ...  0.0  0.0  0.0  0.0   \n",
       "..               ...             ...    ...    ...  ...  ...  ...  ...  ...   \n",
       "885              0.0             1.0      0      5  ...  0.0  0.0  0.0  0.0   \n",
       "886              0.0             0.0      0      0  ...  0.0  0.0  0.0  0.0   \n",
       "887              0.0             1.0      0      0  ...  1.0  0.0  0.0  0.0   \n",
       "889              0.0             0.0      0      0  ...  0.0  1.0  0.0  0.0   \n",
       "890              0.0             0.0      0      0  ...  0.0  0.0  0.0  0.0   \n",
       "\n",
       "       F    G    T  Embarked:C  Embarked:Q  Embarked:S  \n",
       "0    0.0  0.0  0.0         0.0         0.0         1.0  \n",
       "1    0.0  0.0  0.0         1.0         0.0         0.0  \n",
       "2    0.0  0.0  0.0         0.0         0.0         1.0  \n",
       "3    0.0  0.0  0.0         0.0         0.0         1.0  \n",
       "4    0.0  0.0  0.0         0.0         0.0         1.0  \n",
       "..   ...  ...  ...         ...         ...         ...  \n",
       "885  0.0  0.0  0.0         0.0         1.0         0.0  \n",
       "886  0.0  0.0  0.0         0.0         0.0         1.0  \n",
       "887  0.0  0.0  0.0         0.0         0.0         1.0  \n",
       "889  0.0  0.0  0.0         1.0         0.0         0.0  \n",
       "890  0.0  0.0  0.0         0.0         1.0         0.0  \n",
       "\n",
       "[714 rows x 24 columns]"
      ],
      "text/html": "<div>\n<style scoped>\n    .dataframe tbody tr th:only-of-type {\n        vertical-align: middle;\n    }\n\n    .dataframe tbody tr th {\n        vertical-align: top;\n    }\n\n    .dataframe thead th {\n        text-align: right;\n    }\n</style>\n<table border=\"1\" class=\"dataframe\">\n  <thead>\n    <tr style=\"text-align: right;\">\n      <th></th>\n      <th>Pclass</th>\n      <th>Age</th>\n      <th>Fare</th>\n      <th>Minor</th>\n      <th>SurnameAllDied</th>\n      <th>SurnameOneLived</th>\n      <th>SurnameAllLived</th>\n      <th>SurnameOneDead</th>\n      <th>SibSp</th>\n      <th>Parch</th>\n      <th>...</th>\n      <th>B</th>\n      <th>C</th>\n      <th>D</th>\n      <th>E</th>\n      <th>F</th>\n      <th>G</th>\n      <th>T</th>\n      <th>Embarked:C</th>\n      <th>Embarked:Q</th>\n      <th>Embarked:S</th>\n    </tr>\n  </thead>\n  <tbody>\n    <tr>\n      <th>0</th>\n      <td>3</td>\n      <td>22.0</td>\n      <td>7.2500</td>\n      <td>0.0</td>\n      <td>0.0</td>\n      <td>0.0</td>\n      <td>0.0</td>\n      <td>0.0</td>\n      <td>1</td>\n      <td>0</td>\n      <td>...</td>\n      <td>0.0</td>\n      <td>0.0</td>\n      <td>0.0</td>\n      <td>0.0</td>\n      <td>0.0</td>\n      <td>0.0</td>\n      <td>0.0</td>\n      <td>0.0</td>\n      <td>0.0</td>\n      <td>1.0</td>\n    </tr>\n    <tr>\n      <th>1</th>\n      <td>1</td>\n      <td>38.0</td>\n      <td>71.2833</td>\n      <td>0.0</td>\n      <td>0.0</td>\n      <td>0.0</td>\n      <td>0.0</td>\n      <td>0.0</td>\n      <td>1</td>\n      <td>0</td>\n      <td>...</td>\n      <td>0.0</td>\n      <td>1.0</td>\n      <td>0.0</td>\n      <td>0.0</td>\n      <td>0.0</td>\n      <td>0.0</td>\n      <td>0.0</td>\n      <td>1.0</td>\n      <td>0.0</td>\n      <td>0.0</td>\n    </tr>\n    <tr>\n      <th>2</th>\n      <td>3</td>\n      <td>26.0</td>\n      <td>7.9250</td>\n      <td>0.0</td>\n      <td>0.0</td>\n      <td>0.0</td>\n      <td>0.0</td>\n      <td>0.0</td>\n      <td>0</td>\n      <td>0</td>\n      <td>...</td>\n      <td>0.0</td>\n      <td>0.0</td>\n      <td>0.0</td>\n      <td>0.0</td>\n      <td>0.0</td>\n      <td>0.0</td>\n      <td>0.0</td>\n      <td>0.0</td>\n      <td>0.0</td>\n      <td>1.0</td>\n    </tr>\n    <tr>\n      <th>3</th>\n      <td>1</td>\n      <td>35.0</td>\n      <td>53.1000</td>\n      <td>0.0</td>\n      <td>0.0</td>\n      <td>0.0</td>\n      <td>0.0</td>\n      <td>0.0</td>\n      <td>1</td>\n      <td>0</td>\n      <td>...</td>\n      <td>0.0</td>\n      <td>1.0</td>\n      <td>0.0</td>\n      <td>0.0</td>\n      <td>0.0</td>\n      <td>0.0</td>\n      <td>0.0</td>\n      <td>0.0</td>\n      <td>0.0</td>\n      <td>1.0</td>\n    </tr>\n    <tr>\n      <th>4</th>\n      <td>3</td>\n      <td>35.0</td>\n      <td>8.0500</td>\n      <td>0.0</td>\n      <td>0.0</td>\n      <td>0.0</td>\n      <td>0.0</td>\n      <td>0.0</td>\n      <td>0</td>\n      <td>0</td>\n      <td>...</td>\n      <td>0.0</td>\n      <td>0.0</td>\n      <td>0.0</td>\n      <td>0.0</td>\n      <td>0.0</td>\n      <td>0.0</td>\n      <td>0.0</td>\n      <td>0.0</td>\n      <td>0.0</td>\n      <td>1.0</td>\n    </tr>\n    <tr>\n      <th>...</th>\n      <td>...</td>\n      <td>...</td>\n      <td>...</td>\n      <td>...</td>\n      <td>...</td>\n      <td>...</td>\n      <td>...</td>\n      <td>...</td>\n      <td>...</td>\n      <td>...</td>\n      <td>...</td>\n      <td>...</td>\n      <td>...</td>\n      <td>...</td>\n      <td>...</td>\n      <td>...</td>\n      <td>...</td>\n      <td>...</td>\n      <td>...</td>\n      <td>...</td>\n      <td>...</td>\n    </tr>\n    <tr>\n      <th>885</th>\n      <td>3</td>\n      <td>39.0</td>\n      <td>29.1250</td>\n      <td>0.0</td>\n      <td>1.0</td>\n      <td>0.0</td>\n      <td>0.0</td>\n      <td>1.0</td>\n      <td>0</td>\n      <td>5</td>\n      <td>...</td>\n      <td>0.0</td>\n      <td>0.0</td>\n      <td>0.0</td>\n      <td>0.0</td>\n      <td>0.0</td>\n      <td>0.0</td>\n      <td>0.0</td>\n      <td>0.0</td>\n      <td>1.0</td>\n      <td>0.0</td>\n    </tr>\n    <tr>\n      <th>886</th>\n      <td>2</td>\n      <td>27.0</td>\n      <td>13.0000</td>\n      <td>0.0</td>\n      <td>0.0</td>\n      <td>0.0</td>\n      <td>0.0</td>\n      <td>0.0</td>\n      <td>0</td>\n      <td>0</td>\n      <td>...</td>\n      <td>0.0</td>\n      <td>0.0</td>\n      <td>0.0</td>\n      <td>0.0</td>\n      <td>0.0</td>\n      <td>0.0</td>\n      <td>0.0</td>\n      <td>0.0</td>\n      <td>0.0</td>\n      <td>1.0</td>\n    </tr>\n    <tr>\n      <th>887</th>\n      <td>1</td>\n      <td>19.0</td>\n      <td>30.0000</td>\n      <td>0.0</td>\n      <td>0.0</td>\n      <td>1.0</td>\n      <td>0.0</td>\n      <td>1.0</td>\n      <td>0</td>\n      <td>0</td>\n      <td>...</td>\n      <td>1.0</td>\n      <td>0.0</td>\n      <td>0.0</td>\n      <td>0.0</td>\n      <td>0.0</td>\n      <td>0.0</td>\n      <td>0.0</td>\n      <td>0.0</td>\n      <td>0.0</td>\n      <td>1.0</td>\n    </tr>\n    <tr>\n      <th>889</th>\n      <td>1</td>\n      <td>26.0</td>\n      <td>30.0000</td>\n      <td>0.0</td>\n      <td>0.0</td>\n      <td>0.0</td>\n      <td>0.0</td>\n      <td>0.0</td>\n      <td>0</td>\n      <td>0</td>\n      <td>...</td>\n      <td>0.0</td>\n      <td>1.0</td>\n      <td>0.0</td>\n      <td>0.0</td>\n      <td>0.0</td>\n      <td>0.0</td>\n      <td>0.0</td>\n      <td>1.0</td>\n      <td>0.0</td>\n      <td>0.0</td>\n    </tr>\n    <tr>\n      <th>890</th>\n      <td>3</td>\n      <td>32.0</td>\n      <td>7.7500</td>\n      <td>0.0</td>\n      <td>0.0</td>\n      <td>0.0</td>\n      <td>0.0</td>\n      <td>0.0</td>\n      <td>0</td>\n      <td>0</td>\n      <td>...</td>\n      <td>0.0</td>\n      <td>0.0</td>\n      <td>0.0</td>\n      <td>0.0</td>\n      <td>0.0</td>\n      <td>0.0</td>\n      <td>0.0</td>\n      <td>0.0</td>\n      <td>1.0</td>\n      <td>0.0</td>\n    </tr>\n  </tbody>\n</table>\n<p>714 rows × 24 columns</p>\n</div>"
     },
     "metadata": {},
     "execution_count": 15
    }
   ],
   "source": [
    "x"
   ]
  },
  {
   "source": [
    "## Ocenjevanje atributov"
   ],
   "cell_type": "markdown",
   "metadata": {}
  },
  {
   "cell_type": "code",
   "execution_count": 16,
   "metadata": {},
   "outputs": [],
   "source": [
    "from sklearn.feature_selection import mutual_info_classif"
   ]
  },
  {
   "cell_type": "code",
   "execution_count": 17,
   "metadata": {},
   "outputs": [
    {
     "output_type": "execute_result",
     "data": {
      "text/plain": [
       "array([0.06415326, 0.02333312, 0.13279084, 0.01210138, 0.0274129 ,\n",
       "       0.01151176, 0.00662885, 0.00595704, 0.0179364 , 0.01973202,\n",
       "       0.03922997, 0.15199288, 0.15008996, 0.00777584, 0.0173213 ,\n",
       "       0.00970746, 0.01202565, 0.01474219, 0.00642008, 0.00684792,\n",
       "       0.008214  , 0.0182533 , 0.00573641, 0.01726741])"
      ]
     },
     "metadata": {},
     "execution_count": 17
    }
   ],
   "source": [
    "trenutni = mutual_info_classif(x,y)\n",
    "for a in range(99):\n",
    "    trenutni += mutual_info_classif(x,y)\n",
    "trenutni/100"
   ]
  },
  {
   "cell_type": "code",
   "execution_count": 18,
   "metadata": {},
   "outputs": [
    {
     "output_type": "stream",
     "name": "stdout",
     "text": [
      "Embarked:Q: 0.005736412816619818\nSurnameOneDead: 0.005957035714917125\nF: 0.00642007864114752\nSurnameAllLived: 0.006628852784808768\nG: 0.006847921757942675\nA: 0.007775838598616341\nT: 0.008213996146594998\nC: 0.009707458168334536\nSurnameOneLived: 0.01151175909591868\nD: 0.01202564503087507\nMinor: 0.012101379347520418\nE: 0.014742193749123661\nEmbarked:S: 0.01726740861656779\nB: 0.01732130077468309\nSibSp: 0.01793639810751057\nEmbarked:C: 0.018253299319264636\nParch: 0.01973202163454215\nAge: 0.023333118479695898\nSurnameAllDied: 0.02741290195633948\nFamilySize: 0.03922996900562584\nPclass: 0.06415325866622247\nFare: 0.1327908358348238\nmale: 0.15008995850952156\nfemale: 0.15199287819060517\n"
     ]
    }
   ],
   "source": [
    "for a, b in sorted(zip(trenutni, x.columns)):\n",
    "    print(b + \": \" + str(a / 100))"
   ]
  },
  {
   "source": [
    "## Napovedovanje"
   ],
   "cell_type": "markdown",
   "metadata": {}
  },
  {
   "source": [
    "### Random forest"
   ],
   "cell_type": "markdown",
   "metadata": {}
  },
  {
   "cell_type": "code",
   "execution_count": 35,
   "metadata": {},
   "outputs": [],
   "source": [
    "#x3 = x[[\"Minor\", \"SurnameAllDied\", \"female\"]]\n",
    "#x3 = x[['Minor', 'SurnameAllDied', 'FamilySize', 'female', 'male', 'E']]\n",
    "#x3 = x[['Minor', 'SurnameAllDied', 'FamilySize', 'male', 'E']] 0,77272\n",
    "#x3 = x[['Age', 'Minor', 'SurnameAllDied', 'male', 'D', 'E', 'Embarked:S']] 0,71770\n",
    "#x3 = x[['Minor', 'SurnameAllDied', 'female', 'Embarked:C', 'D']] 0,76555\n",
    "#x3 = x[['Minor', 'SurnameAllDied', 'FamilySize', 'female', 'D', 'E']] 0,77033\n",
    "x3 = x[['Pclass', 'Fare', 'Minor', 'SurnameAllDied', 'FamilySize', 'female', 'Embarked:C', 'D', 'E']]\n",
    "x3test = xtest[['Pclass', 'Fare', 'Minor', 'SurnameAllDied', 'FamilySize', 'female', 'Embarked:C', 'D', 'E']]\n",
    "clf = RandomForestClassifier()\n",
    "clf.fit(x3,y)\n",
    "r = clf.predict(x3test)"
   ]
  },
  {
   "cell_type": "code",
   "execution_count": 36,
   "metadata": {},
   "outputs": [
    {
     "output_type": "stream",
     "name": "stderr",
     "text": [
      "/home/matej/.local/lib/python3.8/site-packages/pandas/core/frame.py:3607: SettingWithCopyWarning: \nA value is trying to be set on a copy of a slice from a DataFrame.\nTry using .loc[row_indexer,col_indexer] = value instead\n\nSee the caveats in the documentation: https://pandas.pydata.org/pandas-docs/stable/user_guide/indexing.html#returning-a-view-versus-a-copy\n  self._set_item(key, value)\n"
     ]
    }
   ],
   "source": [
    "resoult = test[[\"PassengerId\"]]\n",
    "resoult[\"Survived\"] = r\n",
    "resoult.to_csv(\"Predictions/rfc42.csv\",  index=False)"
   ]
  },
  {
   "source": [
    "### Naive Bayes"
   ],
   "cell_type": "markdown",
   "metadata": {}
  },
  {
   "cell_type": "code",
   "execution_count": 62,
   "metadata": {},
   "outputs": [],
   "source": [
    "#x3 = x[[\"Minor\", \"SurnameAllDied\", \"female\"]]\n",
    "#x3 = x[['Minor', 'SurnameAllDied', 'FamilySize', 'female', 'male', 'E']]\n",
    "#x3 = x[['Minor', 'SurnameAllDied', 'FamilySize', 'male', 'E']] 0,7751\n",
    "#x3 = x[['Age', 'Minor', 'SurnameAllDied', 'FamilySize', 'female', 'E']] 0,7751\n",
    "x3 = x[['Pclass', 'Age', 'Minor', 'SurnameAllDied', 'female', 'male', 'E']]\n",
    "x3test = xtest[['Pclass', 'Age', 'Minor', 'SurnameAllDied', 'female', 'male', 'E']]\n",
    "gnb = GaussianNB()\n",
    "gnb.fit(x3,y)\n",
    "tt = gnb.predict(x3test)"
   ]
  },
  {
   "cell_type": "code",
   "execution_count": 63,
   "metadata": {},
   "outputs": [
    {
     "output_type": "stream",
     "name": "stderr",
     "text": [
      "/home/matej/.local/lib/python3.8/site-packages/pandas/core/frame.py:3607: SettingWithCopyWarning: \nA value is trying to be set on a copy of a slice from a DataFrame.\nTry using .loc[row_indexer,col_indexer] = value instead\n\nSee the caveats in the documentation: https://pandas.pydata.org/pandas-docs/stable/user_guide/indexing.html#returning-a-view-versus-a-copy\n  self._set_item(key, value)\n"
     ]
    }
   ],
   "source": [
    "resoult2 = test[[\"PassengerId\"]]\n",
    "resoult2[\"Survived\"] = tt\n",
    "#resoult2 == resoult\n",
    "resoult2.to_csv(\"Predictions/nbc4.csv\",  index=False)"
   ]
  },
  {
   "source": [
    "## Napovedovanje + testiranje"
   ],
   "cell_type": "markdown",
   "metadata": {}
  },
  {
   "source": [
    "### Random forest"
   ],
   "cell_type": "markdown",
   "metadata": {}
  },
  {
   "cell_type": "code",
   "execution_count": 19,
   "metadata": {},
   "outputs": [],
   "source": [
    "from sklearn.model_selection import train_test_split\n",
    "from sklearn.metrics import accuracy_score\n",
    "from itertools import combinations"
   ]
  },
  {
   "cell_type": "code",
   "execution_count": 21,
   "metadata": {
    "tags": []
   },
   "outputs": [
    {
     "output_type": "stream",
     "name": "stdout",
     "text": [
      "4\n",
      "('Minor', 'SurnameAllDied', 'female', 'E')\n",
      "0.8403954802259888\n",
      "5\n",
      "('Minor', 'SurnameAllDied', 'female', 'B', 'E')\n",
      "0.8403954802259888\n",
      "6\n",
      "('Minor', 'SurnameAllDied', 'FamilySize', 'female', 'D', 'E')\n",
      "0.8488700564971752\n",
      "7\n",
      "('Minor', 'SurnameAllDied', 'FamilySize', 'female', 'Embarked:C', 'D', 'E')\n",
      "0.8446327683615819\n",
      "8\n",
      "('Age', 'Fare', 'Minor', 'SurnameAllDied', 'FamilySize', 'female', 'D', 'E')\n",
      "0.824858757062147\n",
      "9\n",
      "('Pclass', 'Fare', 'Minor', 'SurnameAllDied', 'FamilySize', 'female', 'Embarked:C', 'D', 'E')\n",
      "0.8234463276836158\n",
      "10\n",
      "('Pclass', 'Age', 'Fare', 'Minor', 'SurnameAllDied', 'FamilySize', 'female', 'B', 'D', 'E')\n",
      "0.8149717514124294\n"
     ]
    }
   ],
   "source": [
    "maxS = 0.65\n",
    "maxT = np.array([])\n",
    "for s in range(4,11):\n",
    "    for a in combinations([\"Pclass\", \"Age\", \"Fare\", \"Minor\", \"SurnameAllDied\", \"FamilySize\", \"female\", \"Embarked:C\", \"B\", \"D\", \"E\"], s):\n",
    "        x1 = x[np.array(a)]\n",
    "        ca = 0\n",
    "        for i in range(3):\n",
    "            x_train, x_test, y_train, y_test = train_test_split(x1, y, test_size=0.33)\n",
    "            clf = RandomForestClassifier()\n",
    "            clf.fit(x_train, y_train)\n",
    "            r = clf.predict(x_test)\n",
    "            ca += accuracy_score(y_test, r)\n",
    "        current = ca / 3\n",
    "        if maxS < current:\n",
    "            maxS = current\n",
    "            maxT = a\n",
    "        #print(current)\n",
    "    print(s)\n",
    "    print(maxT)\n",
    "    print(maxS)\n",
    "    maxS = 0.65\n",
    "    maxT = np.array([])"
   ]
  },
  {
   "cell_type": "code",
   "execution_count": 140,
   "metadata": {},
   "outputs": [
    {
     "output_type": "execute_result",
     "data": {
      "text/plain": [
       "0.8401937046004841"
      ]
     },
     "metadata": {},
     "execution_count": 140
    }
   ],
   "source": [
    "maxS"
   ]
  },
  {
   "source": [
    "### Naive bayes"
   ],
   "cell_type": "markdown",
   "metadata": {}
  },
  {
   "cell_type": "code",
   "execution_count": 85,
   "metadata": {},
   "outputs": [
    {
     "output_type": "stream",
     "name": "stdout",
     "text": [
      "4\n",
      "('Minor', 'SurnameAllDied', 'female', 'E')\n",
      "0.8317796610169491\n",
      "5\n",
      "('Age', 'Minor', 'SurnameAllDied', 'male', 'E')\n",
      "0.8381355932203389\n",
      "6\n",
      "('Age', 'Minor', 'SurnameAllDied', 'FamilySize', 'female', 'male')\n",
      "0.8419491525423728\n",
      "7\n",
      "('Age', 'Minor', 'SurnameAllDied', 'male', 'D', 'E', 'Embarked:S')\n",
      "0.83135593220339\n",
      "8\n",
      "('Pclass', 'Age', 'Minor', 'SurnameAllDied', 'FamilySize', 'female', 'male', 'Embarked:S')\n",
      "0.8317796610169491\n",
      "9\n",
      "('Age', 'Minor', 'SurnameAllDied', 'FamilySize', 'female', 'male', 'B', 'E', 'Embarked:C')\n",
      "0.8249999999999998\n",
      "10\n",
      "('Pclass', 'Fare', 'Minor', 'SurnameAllDied', 'SurnameOneLived', 'FamilySize', 'female', 'male', 'D', 'E')\n",
      "0.8262711864406779\n"
     ]
    }
   ],
   "source": [
    "maxS = 0.65\n",
    "maxT = np.array([])\n",
    "for s in range(4,11):\n",
    "    for a in combinations([\"Pclass\", \"Age\", \"Fare\", \"Minor\", \"SurnameAllDied\", \"SurnameOneLived\", \"FamilySize\", \"female\", \"male\", \"B\", \"D\", \"E\", \"Embarked:C\", \"Embarked:S\"], s):\n",
    "        x1 = x[np.array(a)]\n",
    "        ca = 0\n",
    "        for i in range(10):\n",
    "            x_train, x_test, y_train, y_test = train_test_split(x1, y, test_size=0.33)\n",
    "            gnb = GaussianNB()\n",
    "            gnb.fit(x_train, y_train)\n",
    "            r = gnb.predict(x_test)\n",
    "            ca += accuracy_score(y_test, r)\n",
    "        current = ca / 10\n",
    "        if maxS < current:\n",
    "            maxS = current\n",
    "            maxT = a\n",
    "        #print(current)\n",
    "    print(s)\n",
    "    print(maxT)\n",
    "    print(maxS)\n",
    "    maxS = 0.65\n",
    "    maxT = np.array([])"
   ]
  },
  {
   "source": [
    "# Rezultat"
   ],
   "cell_type": "markdown",
   "metadata": {}
  },
  {
   "source": [
    "Najboljšo oceno je dosegla metoda random forest, z naslednimi atributi: 'Minor', 'SurnameAllDied', 'FamilySize', 'male', 'E'.\n",
    "Dosegel sem klasifikacijsko točnost: 0.77272. Kar se uvrsti med top 31%."
   ],
   "cell_type": "markdown",
   "metadata": {}
  }
 ]
}